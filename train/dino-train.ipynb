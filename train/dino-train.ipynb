{
 "cells": [
  {
   "cell_type": "code",
   "execution_count": null,
   "metadata": {},
   "outputs": [],
   "source": [
    "import numpy as np\n",
    "import tensorflow as tf\n",
    "from tensorflow import keras\n",
    "from tensorflow.keras import layers\n",
    "import pandas as pd\n",
    "from tensorflow.keras.callbacks import ModelCheckpoint\n",
    "\n",
    "print('Versão do TensorFlow: ', tf.__version__)\n"
   ]
  },
  {
   "cell_type": "markdown",
   "metadata": {},
   "source": [
    "### Import of CSV\n"
   ]
  },
  {
   "cell_type": "code",
   "execution_count": null,
   "metadata": {},
   "outputs": [],
   "source": [
    "df = pd.read_csv('./data.csv',skiprows=0) \n",
    "input_data = df.iloc[:, 0:4].values\n",
    "out_data = df.iloc[:, 4:] .values\n"
   ]
  },
  {
   "cell_type": "markdown",
   "metadata": {},
   "source": [
    "### Mapping classes to replace it for the values\n"
   ]
  },
  {
   "cell_type": "code",
   "execution_count": null,
   "metadata": {},
   "outputs": [],
   "source": [
    "# Mapeamento de classes para valores numéricos\n",
    "classe_para_valor = {\n",
    "    \"CACTUS_SMALL\": 0,\n",
    "    \"CACTUS_LARGE\": 1,\n",
    "    \"PTERODACTYL\": 2\n",
    "}\n",
    " \n",
    "acao_para_valor = {\n",
    "    \"JUMP\": 0,\n",
    "    \"CROUCHED\": 1,\n",
    "    \"RUN\": 2,\n",
    "}\n"
   ]
  },
  {
   "cell_type": "markdown",
   "metadata": {},
   "source": [
    "### Replacing String for Values\n"
   ]
  },
  {
   "cell_type": "code",
   "execution_count": null,
   "metadata": {},
   "outputs": [],
   "source": [
    "# Converter dados para valores numéricos\n",
    "input_data = np.array([[classe_para_valor[classe], dist_x, dist_y, dist_z] for classe, dist_x, dist_y , dist_z in input_data])\n",
    "out_data = np.array([acao_para_valor[acao[0]] for acao in out_data])  # Ajuste aqui\n"
   ]
  },
  {
   "cell_type": "markdown",
   "metadata": {},
   "source": [
    "### Creating the model\n"
   ]
  },
  {
   "cell_type": "code",
   "execution_count": null,
   "metadata": {},
   "outputs": [],
   "source": [
    "\n",
    "# Crie o modelo\n",
    "model = tf.keras.Sequential([\n",
    "    tf.keras.layers.Dense(64, activation='relu', input_shape=(4,)),\n",
    "    tf.keras.layers.Dense(3, activation='softmax')  # num_classes é o número de ações possíveis\n",
    "])"
   ]
  },
  {
   "cell_type": "markdown",
   "metadata": {},
   "source": [
    "### Compiling the model\n"
   ]
  },
  {
   "cell_type": "code",
   "execution_count": null,
   "metadata": {},
   "outputs": [],
   "source": [
    "model.compile(optimizer='adam',\n",
    "              loss=tf.keras.losses.SparseCategoricalCrossentropy( ),\n",
    "              metrics=['accuracy'])"
   ]
  },
  {
   "cell_type": "markdown",
   "metadata": {},
   "source": [
    "### Starting the trainning\n"
   ]
  },
  {
   "cell_type": "code",
   "execution_count": null,
   "metadata": {},
   "outputs": [],
   "source": [
    "%load_ext tensorboard\n",
    "log_dir = \"./logs/fit/\"\n",
    "weights = \"./logs/fit/weights/weights.h5\"\n",
    "csv_log_dir = log_dir+'/trainning.log'\n",
    "backup = './logs/fit/backup'\n",
    "tensorboard_callback = tf.keras.callbacks.TensorBoard(log_dir=log_dir, histogram_freq=1)\n",
    " \n",
    "model.fit(input_data, out_data, epochs=100, verbose=1,\n",
    "                callbacks=[\n",
    "                tensorboard_callback,\n",
    "                tf.keras.callbacks.CSVLogger(csv_log_dir),\n",
    "                tf.keras.callbacks.ReduceLROnPlateau(monitor='val_loss', factor=0.2,patience=5, min_lr=0.001),\n",
    "                tf.keras.callbacks.ModelCheckpoint(filepath= weights, save_best_only=True),\n",
    "                tf.keras.callbacks.BackupAndRestore(\n",
    "                backup_dir= backup,\n",
    "                save_freq  = \"epoch\",\n",
    "                delete_checkpoint = True,\n",
    "                save_before_preemption  = False\n",
    "           )]\n",
    "          );"
   ]
  },
  {
   "cell_type": "markdown",
   "metadata": {},
   "source": [
    "### Evaluating the model\n"
   ]
  },
  {
   "cell_type": "code",
   "execution_count": null,
   "metadata": {},
   "outputs": [],
   "source": [
    "\n",
    "# Avalie o modelo\n",
    "loss, accuracy = model.evaluate(input_data, out_data)\n",
    "print(\"Accuracy:\", accuracy)"
   ]
  },
  {
   "cell_type": "markdown",
   "metadata": {},
   "source": [
    "### Saving the model\n"
   ]
  },
  {
   "cell_type": "code",
   "execution_count": null,
   "metadata": {},
   "outputs": [],
   "source": [
    "model.save(\"./dino_model\",save_format='tf')"
   ]
  },
  {
   "cell_type": "markdown",
   "metadata": {},
   "source": [
    "### Exporting to tensorflowJS\n"
   ]
  },
  {
   "cell_type": "code",
   "execution_count": null,
   "metadata": {},
   "outputs": [],
   "source": [
    "! tensorflowjs_converter   --input_format=tf_saved_model  --metadata= ./dino_model ../src/assets/web_dino_model"
   ]
  }
 ],
 "metadata": {
  "kernelspec": {
   "display_name": "TF",
   "language": "python",
   "name": "python3"
  },
  "language_info": {
   "codemirror_mode": {
    "name": "ipython",
    "version": 3
   },
   "file_extension": ".py",
   "mimetype": "text/x-python",
   "name": "python",
   "nbconvert_exporter": "python",
   "pygments_lexer": "ipython3",
   "version": "3.8.16"
  },
  "orig_nbformat": 4
 },
 "nbformat": 4,
 "nbformat_minor": 2
}
